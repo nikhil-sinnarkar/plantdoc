{
 "cells": [
  {
   "cell_type": "code",
   "execution_count": 1,
   "metadata": {},
   "outputs": [
    {
     "name": "stderr",
     "output_type": "stream",
     "text": [
      "Using Theano backend.\n",
      "WARNING (theano.tensor.blas): Using NumPy C-API based implementation for BLAS functions.\n",
      "Using cuDNN version 7005 on context None\n",
      "Mapped name None to device cuda0: GeForce GTX 1060 (0000:01:00.0)\n",
      "C:\\Users\\Nikhil\\Miniconda3\\envs\\plant\\lib\\site-packages\\sklearn\\utils\\__init__.py:4: DeprecationWarning: Using or importing the ABCs from 'collections' instead of from 'collections.abc' is deprecated, and in 3.8 it will stop working\n",
      "  from collections import Sequence\n"
     ]
    }
   ],
   "source": [
    "import csv\n",
    "import os\n",
    "import time\n",
    "\n",
    "import numpy as np\n",
    "from keras.layers import (Activation, AveragePooling2D, Convolution2D, Dense,\n",
    "                          Dropout, Flatten, Input, MaxPooling2D, Reshape,\n",
    "                          ZeroPadding2D, merge)\n",
    "from keras.models import Model, load_model\n",
    "from keras.optimizers import SGD\n",
    "from keras.regularizers import l2\n",
    "from keras.utils import np_utils\n",
    "from scipy.misc import imread, imresize\n",
    "\n",
    "import googlenet_custom_layers\n",
    "import sklearn\n",
    "from sklearn.model_selection import train_test_split\n",
    "from sklearn.utils import shuffle"
   ]
  },
  {
   "cell_type": "code",
   "execution_count": 2,
   "metadata": {},
   "outputs": [
    {
     "name": "stderr",
     "output_type": "stream",
     "text": [
      "C:\\Users\\Nikhil\\Miniconda3\\envs\\plant\\lib\\site-packages\\keras\\engine\\topology.py:1242: UserWarning: The `Merge` layer is deprecated and will be removed after 08/2017. Use instead layers from `keras.layers.merge`, e.g. `add`, `concatenate`, etc.\n",
      "  return cls(**config)\n"
     ]
    }
   ],
   "source": [
    "# load the pretrained model\n",
    "googlenet = load_model('googlenet.h5', custom_objects={\n",
    "                       'PoolHelper': googlenet_custom_layers.PoolHelper, 'LRN': googlenet_custom_layers.LRN})\n",
    "# googlenet.summary()"
   ]
  },
  {
   "cell_type": "code",
   "execution_count": 3,
   "metadata": {},
   "outputs": [],
   "source": [
    "num_classes = 38\n",
    "X_train = []\n",
    "Y_train = []\n",
    "csv_data = []"
   ]
  },
  {
   "cell_type": "code",
   "execution_count": 4,
   "metadata": {},
   "outputs": [
    {
     "name": "stdout",
     "output_type": "stream",
     "text": [
      "['Apple___Apple_scab/00075aa8-d81a-4184-8541-b692b78d398a___FREC_Scab 3335.JPG', 'Apple___Apple_scab', '0']\n"
     ]
    }
   ],
   "source": [
    "# read the data in csv file\n",
    "with open('./plant_data.csv') as csvfile:\n",
    "    reader = csv.reader(csvfile)\n",
    "    next(reader, None)\n",
    "    for line in reader:\n",
    "        csv_data.append(line)\n",
    "    \n",
    "print(csv_data[0])\n",
    "\n",
    "sklearn.utils.shuffle(csv_data)\n",
    "train_data, validation_data = train_test_split(csv_data, test_size=0.2)"
   ]
  },
  {
   "cell_type": "code",
   "execution_count": 5,
   "metadata": {},
   "outputs": [],
   "source": [
    "def generator(csv_data, batch_size = 28):\n",
    "    data_length = len(csv_data)\n",
    "    while 1:\n",
    "        for offset in range(0, data_length, batch_size):\n",
    "            # split the data into batches\n",
    "            batch_data = csv_data[offset:offset+batch_size]\n",
    "            images = []\n",
    "            labels = []\n",
    "\n",
    "            for data in batch_data:\n",
    "                image_path = './data/' + data[0]\n",
    "                img = imresize(imread(image_path, mode='RGB'), (224, 224)).astype(np.float32)\n",
    "                img = img.transpose((2, 0, 1))\n",
    "                images.append(img)\n",
    "                labels.append(int(data[2]))\n",
    "\n",
    "            X_train = np.array(images)\n",
    "            Y_train = np.array(labels)\n",
    "            Y_train = np_utils.to_categorical(labels, num_classes)\n",
    "            yield sklearn.utils.shuffle(X_train, Y_train)\n",
    "\n",
    "gen_instance = generator(train_data)\n",
    "validation_generator = generator(validation_data, batch_size=32)"
   ]
  },
  {
   "cell_type": "code",
   "execution_count": 6,
   "metadata": {},
   "outputs": [],
   "source": [
    "flattened_layer = googlenet.get_layer('flatten_3').output\n",
    "fc_1 = Dense(512, activation='relu', name='fc_1')(flattened_layer)\n",
    "output = Dense(num_classes, activation='softmax', name='output')(fc_1)\n",
    "\n",
    "image_input = googlenet.get_layer('input_1').input\n",
    "my_googlenet = Model(image_input, output)\n",
    "\n",
    "for layer in my_googlenet.layers[:-2]:\n",
    "    layer.trainable = False\n",
    "\n",
    "my_googlenet.compile(loss='categorical_crossentropy',optimizer='sgd',metrics=['accuracy'])"
   ]
  },
  {
   "cell_type": "code",
   "execution_count": null,
   "metadata": {},
   "outputs": [
    {
     "name": "stderr",
     "output_type": "stream",
     "text": [
      "C:\\Users\\Nikhil\\Miniconda3\\envs\\plant\\lib\\site-packages\\ipykernel_launcher.py:12: DeprecationWarning: `imread` is deprecated!\n",
      "`imread` is deprecated in SciPy 1.0.0, and will be removed in 1.2.0.\n",
      "Use ``imageio.imread`` instead.\n",
      "  if sys.path[0] == '':\n"
     ]
    },
    {
     "name": "stdout",
     "output_type": "stream",
     "text": [
      "Epoch 1/10\n"
     ]
    },
    {
     "name": "stderr",
     "output_type": "stream",
     "text": [
      "C:\\Users\\Nikhil\\Miniconda3\\envs\\plant\\lib\\site-packages\\ipykernel_launcher.py:12: DeprecationWarning: `imresize` is deprecated!\n",
      "`imresize` is deprecated in SciPy 1.0.0, and will be removed in 1.2.0.\n",
      "Use ``skimage.transform.resize`` instead.\n",
      "  if sys.path[0] == '':\n"
     ]
    },
    {
     "name": "stdout",
     "output_type": "stream",
     "text": [
      " 120/1551 [=>............................] - ETA: 1190s - loss: 3.2534 - acc: 0.5280"
     ]
    }
   ],
   "source": [
    "t=time.time()\n",
    "hist = my_googlenet.fit_generator(generator(train_data), steps_per_epoch = len(train_data)//28, epochs = 10, validation_data=generator(validation_data), validation_steps=len(validation_data)//28)\n",
    "print('Training time: %s' % (t - time.time()))\n",
    "(loss, accuracy) = my_googlenet.evaluate(X_test, y_test, batch_size=10, verbose=1)\n",
    "\n",
    "print(\"[INFO] loss={:.4f}, accuracy: {:.4f}%\".format(loss,accuracy * 100))"
   ]
  },
  {
   "cell_type": "code",
   "execution_count": null,
   "metadata": {},
   "outputs": [],
   "source": []
  }
 ],
 "metadata": {
  "kernelspec": {
   "display_name": "Python 3",
   "language": "python",
   "name": "python3"
  },
  "language_info": {
   "codemirror_mode": {
    "name": "ipython",
    "version": 3
   },
   "file_extension": ".py",
   "mimetype": "text/x-python",
   "name": "python",
   "nbconvert_exporter": "python",
   "pygments_lexer": "ipython3",
   "version": "3.7.0"
  }
 },
 "nbformat": 4,
 "nbformat_minor": 2
}
