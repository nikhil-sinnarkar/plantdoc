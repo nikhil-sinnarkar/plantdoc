{
 "cells": [
  {
   "cell_type": "code",
   "execution_count": 1,
   "metadata": {},
   "outputs": [
    {
     "name": "stderr",
     "output_type": "stream",
     "text": [
      "Using Theano backend.\n",
      "WARNING (theano.tensor.blas): Using NumPy C-API based implementation for BLAS functions.\n",
      "Using cuDNN version 7005 on context None\n",
      "Mapped name None to device cuda0: GeForce GTX 1060 (0000:01:00.0)\n",
      "C:\\Users\\Nikhil\\Miniconda3\\envs\\plant\\lib\\site-packages\\sklearn\\utils\\__init__.py:4: DeprecationWarning: Using or importing the ABCs from 'collections' instead of from 'collections.abc' is deprecated, and in 3.8 it will stop working\n",
      "  from collections import Sequence\n"
     ]
    }
   ],
   "source": [
    "import csv\n",
    "import os\n",
    "import time\n",
    "\n",
    "import numpy as np\n",
    "from keras.layers import (Activation, AveragePooling2D, Convolution2D, Dense,\n",
    "                          Dropout, Flatten, Input, MaxPooling2D, Reshape,\n",
    "                          ZeroPadding2D, merge)\n",
    "from keras.models import Model, load_model\n",
    "from keras.optimizers import SGD\n",
    "from keras.regularizers import l2\n",
    "from keras.utils import np_utils\n",
    "from scipy.misc import imread, imresize\n",
    "\n",
    "import googlenet_custom_layers\n",
    "import sklearn\n",
    "from sklearn.model_selection import train_test_split\n",
    "from sklearn.utils import shuffle"
   ]
  },
  {
   "cell_type": "code",
   "execution_count": 2,
   "metadata": {},
   "outputs": [
    {
     "name": "stderr",
     "output_type": "stream",
     "text": [
      "C:\\Users\\Nikhil\\Miniconda3\\envs\\plant\\lib\\site-packages\\keras\\engine\\topology.py:1242: UserWarning: The `Merge` layer is deprecated and will be removed after 08/2017. Use instead layers from `keras.layers.merge`, e.g. `add`, `concatenate`, etc.\n",
      "  return cls(**config)\n"
     ]
    }
   ],
   "source": [
    "# load the pretrained model\n",
    "googlenet = load_model('googlenet.h5', custom_objects={\n",
    "                       'PoolHelper': googlenet_custom_layers.PoolHelper, 'LRN': googlenet_custom_layers.LRN})\n",
    "# googlenet.summary()"
   ]
  },
  {
   "cell_type": "code",
   "execution_count": 3,
   "metadata": {},
   "outputs": [],
   "source": [
    "num_classes = 38\n",
    "X_train = []\n",
    "Y_train = []\n",
    "csv_data = []"
   ]
  },
  {
   "cell_type": "code",
   "execution_count": 4,
   "metadata": {},
   "outputs": [
    {
     "name": "stdout",
     "output_type": "stream",
     "text": [
      "['Apple___Apple_scab/00075aa8-d81a-4184-8541-b692b78d398a___FREC_Scab 3335.JPG', 'Apple___Apple_scab', '0']\n"
     ]
    }
   ],
   "source": [
    "# read the data in csv file\n",
    "with open('./plant_data.csv') as csvfile:\n",
    "    reader = csv.reader(csvfile)\n",
    "    next(reader, None)\n",
    "    for line in reader:\n",
    "        csv_data.append(line)\n",
    "    \n",
    "print(csv_data[0])\n",
    "\n",
    "sklearn.utils.shuffle(csv_data)\n",
    "train_data, validation_data = train_test_split(csv_data, test_size=0.2)"
   ]
  },
  {
   "cell_type": "code",
   "execution_count": 5,
   "metadata": {},
   "outputs": [],
   "source": [
    "def generator(csv_data, batch_size = 28):\n",
    "    data_length = len(csv_data)\n",
    "    while 1:\n",
    "        for offset in range(0, data_length, batch_size):\n",
    "            # split the data into batches\n",
    "            batch_data = csv_data[offset:offset+batch_size]\n",
    "            images = []\n",
    "            labels = []\n",
    "\n",
    "            for data in batch_data:\n",
    "                image_path = './data/' + data[0]\n",
    "                img = imresize(imread(image_path, mode='RGB'), (224, 224)).astype(np.float32)\n",
    "                img = img.transpose((2, 0, 1))\n",
    "                images.append(img)\n",
    "                labels.append(int(data[2]))\n",
    "\n",
    "            X_train = np.array(images)\n",
    "            Y_train = np.array(labels)\n",
    "            Y_train = np_utils.to_categorical(labels, num_classes)\n",
    "            yield sklearn.utils.shuffle(X_train, Y_train)\n",
    "\n",
    "gen_instance = generator(train_data)\n",
    "validation_generator = generator(validation_data, batch_size=32)"
   ]
  },
  {
   "cell_type": "code",
   "execution_count": 6,
   "metadata": {},
   "outputs": [],
   "source": [
    "flattened_layer = googlenet.get_layer('flatten_3').output\n",
    "fc_1 = Dense(512, activation='relu', kernel_initializer='random_normal', name='fc_1')(flattened_layer)\n",
    "output = Dense(num_classes, activation='softmax', kernel_initializer='random_normal', name='output')(fc_1)\n",
    "\n",
    "image_input = googlenet.get_layer('input_1').input\n",
    "my_googlenet = Model(image_input, output)\n",
    "\n",
    "for layer in my_googlenet.layers[:-2]:\n",
    "    layer.trainable = False\n",
    "\n",
    "my_googlenet.compile(loss='categorical_crossentropy',optimizer='sgd',metrics=['accuracy'])"
   ]
  },
  {
   "cell_type": "code",
   "execution_count": 7,
   "metadata": {},
   "outputs": [
    {
     "name": "stderr",
     "output_type": "stream",
     "text": [
      "C:\\Users\\Nikhil\\Miniconda3\\envs\\plant\\lib\\site-packages\\ipykernel_launcher.py:12: DeprecationWarning: `imread` is deprecated!\n",
      "`imread` is deprecated in SciPy 1.0.0, and will be removed in 1.2.0.\n",
      "Use ``imageio.imread`` instead.\n",
      "  if sys.path[0] == '':\n",
      "C:\\Users\\Nikhil\\Miniconda3\\envs\\plant\\lib\\site-packages\\ipykernel_launcher.py:12: DeprecationWarning: `imresize` is deprecated!\n",
      "`imresize` is deprecated in SciPy 1.0.0, and will be removed in 1.2.0.\n",
      "Use ``skimage.transform.resize`` instead.\n",
      "  if sys.path[0] == '':\n"
     ]
    },
    {
     "name": "stdout",
     "output_type": "stream",
     "text": [
      "Epoch 1/20\n",
      "1551/1551 [==============================] - 430s - loss: 2.0595 - acc: 0.8072 - val_loss: 1.7841 - val_acc: 0.8801\n",
      "Epoch 2/20\n",
      "1551/1551 [==============================] - 177s - loss: 1.7197 - acc: 0.8974 - val_loss: 1.7235 - val_acc: 0.8926\n",
      "Epoch 3/20\n",
      "1551/1551 [==============================] - 178s - loss: 1.6544 - acc: 0.9177 - val_loss: 1.6706 - val_acc: 0.9123\n",
      "Epoch 4/20\n",
      "1551/1551 [==============================] - 178s - loss: 1.6174 - acc: 0.9286 - val_loss: 1.6534 - val_acc: 0.9166\n",
      "Epoch 5/20\n",
      "1551/1551 [==============================] - 177s - loss: 1.5915 - acc: 0.9370 - val_loss: 1.6368 - val_acc: 0.9199\n",
      "Epoch 6/20\n",
      "1551/1551 [==============================] - 178s - loss: 1.5717 - acc: 0.9436 - val_loss: 1.6343 - val_acc: 0.9210\n",
      "Epoch 7/20\n",
      "1551/1551 [==============================] - 178s - loss: 1.5559 - acc: 0.9485 - val_loss: 1.6240 - val_acc: 0.9239\n",
      "Epoch 8/20\n",
      "1551/1551 [==============================] - 178s - loss: 1.5425 - acc: 0.9535 - val_loss: 1.6158 - val_acc: 0.9258\n",
      "Epoch 9/20\n",
      "1551/1551 [==============================] - 178s - loss: 1.5309 - acc: 0.9581 - val_loss: 1.6061 - val_acc: 0.9288\n",
      "Epoch 10/20\n",
      "1551/1551 [==============================] - 178s - loss: 1.5208 - acc: 0.9614 - val_loss: 1.6040 - val_acc: 0.9298\n",
      "Epoch 11/20\n",
      "1551/1551 [==============================] - 177s - loss: 1.5117 - acc: 0.9648 - val_loss: 1.6050 - val_acc: 0.9289\n",
      "Epoch 12/20\n",
      "1551/1551 [==============================] - 178s - loss: 1.5037 - acc: 0.9676 - val_loss: 1.6091 - val_acc: 0.9281\n",
      "Epoch 13/20\n",
      "1551/1551 [==============================] - 178s - loss: 1.4964 - acc: 0.9703 - val_loss: 1.5982 - val_acc: 0.9318\n",
      "Epoch 14/20\n",
      "1551/1551 [==============================] - 178s - loss: 1.4897 - acc: 0.9734 - val_loss: 1.5879 - val_acc: 0.9336\n",
      "Epoch 15/20\n",
      "1551/1551 [==============================] - 187s - loss: 1.4837 - acc: 0.9753 - val_loss: 1.5890 - val_acc: 0.9325\n",
      "Epoch 16/20\n",
      "1551/1551 [==============================] - 178s - loss: 1.4780 - acc: 0.9766 - val_loss: 1.5902 - val_acc: 0.9324\n",
      "Epoch 17/20\n",
      "1551/1551 [==============================] - 178s - loss: 1.4728 - acc: 0.9784 - val_loss: 1.5892 - val_acc: 0.9345\n",
      "Epoch 18/20\n",
      "1551/1551 [==============================] - 178s - loss: 1.4680 - acc: 0.9807 - val_loss: 1.5882 - val_acc: 0.9348\n",
      "Epoch 19/20\n",
      "1551/1551 [==============================] - 178s - loss: 1.4635 - acc: 0.9824 - val_loss: 1.5905 - val_acc: 0.9359\n",
      "Epoch 20/20\n",
      "1551/1551 [==============================] - 500s - loss: 1.4593 - acc: 0.9840 - val_loss: 1.5952 - val_acc: 0.9334\n",
      "Training time: -4187.536094665527\n"
     ]
    },
    {
     "ename": "TypeError",
     "evalue": "evaluate_generator() got an unexpected keyword argument 'max_queue_size'",
     "output_type": "error",
     "traceback": [
      "\u001b[1;31m---------------------------------------------------------------------------\u001b[0m",
      "\u001b[1;31mTypeError\u001b[0m                                 Traceback (most recent call last)",
      "\u001b[1;32m<ipython-input-7-8c955b190f99>\u001b[0m in \u001b[0;36m<module>\u001b[1;34m()\u001b[0m\n\u001b[0;32m      8\u001b[0m (loss, accuracy) = my_googlenet.evaluate_generator(validation_generator,steps=len(validation_data)//32, \n\u001b[0;32m      9\u001b[0m                                                    \u001b[0mmax_queue_size\u001b[0m\u001b[1;33m=\u001b[0m\u001b[1;36m10\u001b[0m\u001b[1;33m,\u001b[0m \u001b[0mworkers\u001b[0m\u001b[1;33m=\u001b[0m\u001b[1;36m1\u001b[0m\u001b[1;33m,\u001b[0m\u001b[1;33m\u001b[0m\u001b[0m\n\u001b[1;32m---> 10\u001b[1;33m                                                    use_multiprocessing=False, verbose=1)\n\u001b[0m\u001b[0;32m     11\u001b[0m \u001b[1;33m\u001b[0m\u001b[0m\n\u001b[0;32m     12\u001b[0m \u001b[0mprint\u001b[0m\u001b[1;33m(\u001b[0m\u001b[1;34m\"[INFO] loss={:.4f}, accuracy: {:.4f}%\"\u001b[0m\u001b[1;33m.\u001b[0m\u001b[0mformat\u001b[0m\u001b[1;33m(\u001b[0m\u001b[0mloss\u001b[0m\u001b[1;33m,\u001b[0m\u001b[0maccuracy\u001b[0m \u001b[1;33m*\u001b[0m \u001b[1;36m100\u001b[0m\u001b[1;33m)\u001b[0m\u001b[1;33m)\u001b[0m\u001b[1;33m\u001b[0m\u001b[0m\n",
      "\u001b[1;32m~\\Miniconda3\\envs\\plant\\lib\\site-packages\\keras\\legacy\\interfaces.py\u001b[0m in \u001b[0;36mwrapper\u001b[1;34m(*args, **kwargs)\u001b[0m\n\u001b[0;32m     86\u001b[0m                 warnings.warn('Update your `' + object_name +\n\u001b[0;32m     87\u001b[0m                               '` call to the Keras 2 API: ' + signature, stacklevel=2)\n\u001b[1;32m---> 88\u001b[1;33m             \u001b[1;32mreturn\u001b[0m \u001b[0mfunc\u001b[0m\u001b[1;33m(\u001b[0m\u001b[1;33m*\u001b[0m\u001b[0margs\u001b[0m\u001b[1;33m,\u001b[0m \u001b[1;33m**\u001b[0m\u001b[0mkwargs\u001b[0m\u001b[1;33m)\u001b[0m\u001b[1;33m\u001b[0m\u001b[0m\n\u001b[0m\u001b[0;32m     89\u001b[0m         \u001b[0mwrapper\u001b[0m\u001b[1;33m.\u001b[0m\u001b[0m_legacy_support_signature\u001b[0m \u001b[1;33m=\u001b[0m \u001b[0minspect\u001b[0m\u001b[1;33m.\u001b[0m\u001b[0mgetargspec\u001b[0m\u001b[1;33m(\u001b[0m\u001b[0mfunc\u001b[0m\u001b[1;33m)\u001b[0m\u001b[1;33m\u001b[0m\u001b[0m\n\u001b[0;32m     90\u001b[0m         \u001b[1;32mreturn\u001b[0m \u001b[0mwrapper\u001b[0m\u001b[1;33m\u001b[0m\u001b[0m\n",
      "\u001b[1;31mTypeError\u001b[0m: evaluate_generator() got an unexpected keyword argument 'max_queue_size'"
     ]
    }
   ],
   "source": [
    "no_of_epochs = 20\n",
    "\n",
    "t=time.time()\n",
    "hist = my_googlenet.fit_generator(generator(train_data), steps_per_epoch = len(train_data)//28, \n",
    "                                  epochs = no_of_epochs, validation_data=generator(validation_data), \n",
    "                                  validation_steps=len(validation_data)//28)\n",
    "print('Training time: %s' % (t - time.time()))\n",
    "(loss, accuracy) = my_googlenet.evaluate_generator(validation_generator,steps=len(validation_data)//32, \n",
    "                                                   max_queue_size=10, workers=1, \n",
    "                                                   use_multiprocessing=False, verbose=1)\n",
    "\n",
    "print(\"[INFO] loss={:.4f}, accuracy: {:.4f}%\".format(loss,accuracy * 100))"
   ]
  },
  {
   "cell_type": "code",
   "execution_count": 8,
   "metadata": {},
   "outputs": [
    {
     "name": "stderr",
     "output_type": "stream",
     "text": [
      "C:\\Users\\Nikhil\\Miniconda3\\envs\\plant\\lib\\site-packages\\ipykernel_launcher.py:2: DeprecationWarning: `imread` is deprecated!\n",
      "`imread` is deprecated in SciPy 1.0.0, and will be removed in 1.2.0.\n",
      "Use ``imageio.imread`` instead.\n",
      "  \n"
     ]
    },
    {
     "ename": "FileNotFoundError",
     "evalue": "[Errno 2] No such file or directory: 'tomato_septoria_leaf_spot_2.jpg'",
     "output_type": "error",
     "traceback": [
      "\u001b[1;31m---------------------------------------------------------------------------\u001b[0m",
      "\u001b[1;31mFileNotFoundError\u001b[0m                         Traceback (most recent call last)",
      "\u001b[1;32m<ipython-input-8-426a6f0fa282>\u001b[0m in \u001b[0;36m<module>\u001b[1;34m()\u001b[0m\n\u001b[0;32m      1\u001b[0m \u001b[1;31m#(loss, accuracy) = my_googlenet.evaluate(validation_data[0], validation_data[1], batch_size=10, verbose=1)\u001b[0m\u001b[1;33m\u001b[0m\u001b[1;33m\u001b[0m\u001b[0m\n\u001b[1;32m----> 2\u001b[1;33m \u001b[0mtest_img\u001b[0m\u001b[1;33m=\u001b[0m\u001b[0mimresize\u001b[0m\u001b[1;33m(\u001b[0m\u001b[0mimread\u001b[0m\u001b[1;33m(\u001b[0m\u001b[1;34m'tomato_septoria_leaf_spot_2.jpg'\u001b[0m\u001b[1;33m,\u001b[0m \u001b[0mmode\u001b[0m\u001b[1;33m=\u001b[0m\u001b[1;34m'RGB'\u001b[0m\u001b[1;33m)\u001b[0m\u001b[1;33m,\u001b[0m \u001b[1;33m(\u001b[0m\u001b[1;36m224\u001b[0m\u001b[1;33m,\u001b[0m \u001b[1;36m224\u001b[0m\u001b[1;33m)\u001b[0m\u001b[1;33m)\u001b[0m\u001b[1;33m.\u001b[0m\u001b[0mastype\u001b[0m\u001b[1;33m(\u001b[0m\u001b[0mnp\u001b[0m\u001b[1;33m.\u001b[0m\u001b[0mfloat32\u001b[0m\u001b[1;33m)\u001b[0m\u001b[1;33m\u001b[0m\u001b[0m\n\u001b[0m\u001b[0;32m      3\u001b[0m \u001b[0mtest_img\u001b[0m \u001b[1;33m=\u001b[0m \u001b[0mtest_img\u001b[0m\u001b[1;33m.\u001b[0m\u001b[0mtranspose\u001b[0m\u001b[1;33m(\u001b[0m\u001b[1;33m(\u001b[0m\u001b[1;36m2\u001b[0m\u001b[1;33m,\u001b[0m \u001b[1;36m0\u001b[0m\u001b[1;33m,\u001b[0m \u001b[1;36m1\u001b[0m\u001b[1;33m)\u001b[0m\u001b[1;33m)\u001b[0m\u001b[1;33m\u001b[0m\u001b[0m\n\u001b[0;32m      4\u001b[0m \u001b[0mtest_img\u001b[0m \u001b[1;33m=\u001b[0m \u001b[0mnp\u001b[0m\u001b[1;33m.\u001b[0m\u001b[0mexpand_dims\u001b[0m\u001b[1;33m(\u001b[0m\u001b[0mtest_img\u001b[0m\u001b[1;33m,\u001b[0m \u001b[0maxis\u001b[0m\u001b[1;33m=\u001b[0m\u001b[1;36m0\u001b[0m\u001b[1;33m)\u001b[0m\u001b[1;33m\u001b[0m\u001b[0m\n\u001b[0;32m      5\u001b[0m \u001b[1;31m#test_img=cv2.imread('funal_leaf.jpg')\u001b[0m\u001b[1;33m\u001b[0m\u001b[1;33m\u001b[0m\u001b[0m\n",
      "\u001b[1;32m~\\Miniconda3\\envs\\plant\\lib\\site-packages\\numpy\\lib\\utils.py\u001b[0m in \u001b[0;36mnewfunc\u001b[1;34m(*args, **kwds)\u001b[0m\n\u001b[0;32m     99\u001b[0m             \u001b[1;34m\"\"\"`arrayrange` is deprecated, use `arange` instead!\"\"\"\u001b[0m\u001b[1;33m\u001b[0m\u001b[0m\n\u001b[0;32m    100\u001b[0m             \u001b[0mwarnings\u001b[0m\u001b[1;33m.\u001b[0m\u001b[0mwarn\u001b[0m\u001b[1;33m(\u001b[0m\u001b[0mdepdoc\u001b[0m\u001b[1;33m,\u001b[0m \u001b[0mDeprecationWarning\u001b[0m\u001b[1;33m,\u001b[0m \u001b[0mstacklevel\u001b[0m\u001b[1;33m=\u001b[0m\u001b[1;36m2\u001b[0m\u001b[1;33m)\u001b[0m\u001b[1;33m\u001b[0m\u001b[0m\n\u001b[1;32m--> 101\u001b[1;33m             \u001b[1;32mreturn\u001b[0m \u001b[0mfunc\u001b[0m\u001b[1;33m(\u001b[0m\u001b[1;33m*\u001b[0m\u001b[0margs\u001b[0m\u001b[1;33m,\u001b[0m \u001b[1;33m**\u001b[0m\u001b[0mkwds\u001b[0m\u001b[1;33m)\u001b[0m\u001b[1;33m\u001b[0m\u001b[0m\n\u001b[0m\u001b[0;32m    102\u001b[0m \u001b[1;33m\u001b[0m\u001b[0m\n\u001b[0;32m    103\u001b[0m         \u001b[0mnewfunc\u001b[0m \u001b[1;33m=\u001b[0m \u001b[0m_set_function_name\u001b[0m\u001b[1;33m(\u001b[0m\u001b[0mnewfunc\u001b[0m\u001b[1;33m,\u001b[0m \u001b[0mold_name\u001b[0m\u001b[1;33m)\u001b[0m\u001b[1;33m\u001b[0m\u001b[0m\n",
      "\u001b[1;32m~\\Miniconda3\\envs\\plant\\lib\\site-packages\\scipy\\misc\\pilutil.py\u001b[0m in \u001b[0;36mimread\u001b[1;34m(name, flatten, mode)\u001b[0m\n\u001b[0;32m    162\u001b[0m     \"\"\"\n\u001b[0;32m    163\u001b[0m \u001b[1;33m\u001b[0m\u001b[0m\n\u001b[1;32m--> 164\u001b[1;33m     \u001b[0mim\u001b[0m \u001b[1;33m=\u001b[0m \u001b[0mImage\u001b[0m\u001b[1;33m.\u001b[0m\u001b[0mopen\u001b[0m\u001b[1;33m(\u001b[0m\u001b[0mname\u001b[0m\u001b[1;33m)\u001b[0m\u001b[1;33m\u001b[0m\u001b[0m\n\u001b[0m\u001b[0;32m    165\u001b[0m     \u001b[1;32mreturn\u001b[0m \u001b[0mfromimage\u001b[0m\u001b[1;33m(\u001b[0m\u001b[0mim\u001b[0m\u001b[1;33m,\u001b[0m \u001b[0mflatten\u001b[0m\u001b[1;33m=\u001b[0m\u001b[0mflatten\u001b[0m\u001b[1;33m,\u001b[0m \u001b[0mmode\u001b[0m\u001b[1;33m=\u001b[0m\u001b[0mmode\u001b[0m\u001b[1;33m)\u001b[0m\u001b[1;33m\u001b[0m\u001b[0m\n\u001b[0;32m    166\u001b[0m \u001b[1;33m\u001b[0m\u001b[0m\n",
      "\u001b[1;32m~\\Miniconda3\\envs\\plant\\lib\\site-packages\\PIL\\Image.py\u001b[0m in \u001b[0;36mopen\u001b[1;34m(fp, mode)\u001b[0m\n\u001b[0;32m   2578\u001b[0m \u001b[1;33m\u001b[0m\u001b[0m\n\u001b[0;32m   2579\u001b[0m     \u001b[1;32mif\u001b[0m \u001b[0mfilename\u001b[0m\u001b[1;33m:\u001b[0m\u001b[1;33m\u001b[0m\u001b[0m\n\u001b[1;32m-> 2580\u001b[1;33m         \u001b[0mfp\u001b[0m \u001b[1;33m=\u001b[0m \u001b[0mbuiltins\u001b[0m\u001b[1;33m.\u001b[0m\u001b[0mopen\u001b[0m\u001b[1;33m(\u001b[0m\u001b[0mfilename\u001b[0m\u001b[1;33m,\u001b[0m \u001b[1;34m\"rb\"\u001b[0m\u001b[1;33m)\u001b[0m\u001b[1;33m\u001b[0m\u001b[0m\n\u001b[0m\u001b[0;32m   2581\u001b[0m         \u001b[0mexclusive_fp\u001b[0m \u001b[1;33m=\u001b[0m \u001b[1;32mTrue\u001b[0m\u001b[1;33m\u001b[0m\u001b[0m\n\u001b[0;32m   2582\u001b[0m \u001b[1;33m\u001b[0m\u001b[0m\n",
      "\u001b[1;31mFileNotFoundError\u001b[0m: [Errno 2] No such file or directory: 'tomato_septoria_leaf_spot_2.jpg'"
     ]
    }
   ],
   "source": [
    "#(loss, accuracy) = my_googlenet.evaluate(validation_data[0], validation_data[1], batch_size=10, verbose=1)\n",
    "test_img=imresize(imread('tomato_septoria_leaf_spot_2.jpg', mode='RGB'), (224, 224)).astype(np.float32)\n",
    "test_img = test_img.transpose((2, 0, 1))\n",
    "test_img = np.expand_dims(test_img, axis=0)\n",
    "#test_img=cv2.imread('funal_leaf.jpg')\n",
    "class_label=my_googlenet.predict(test_img)"
   ]
  },
  {
   "cell_type": "code",
   "execution_count": 13,
   "metadata": {},
   "outputs": [],
   "source": [
    "#print(np.argmax(class_label))\n",
    "\n",
    "import glob\n",
    "dict_plant={}   \n",
    "for i in csv_data:\n",
    "    dict_plant[i[2]]=i[1]"
   ]
  },
  {
   "cell_type": "code",
   "execution_count": 14,
   "metadata": {},
   "outputs": [
    {
     "name": "stderr",
     "output_type": "stream",
     "text": [
      "C:\\Users\\Nikhil\\Miniconda3\\envs\\plant\\lib\\site-packages\\ipykernel_launcher.py:2: DeprecationWarning: `imread` is deprecated!\n",
      "`imread` is deprecated in SciPy 1.0.0, and will be removed in 1.2.0.\n",
      "Use ``imageio.imread`` instead.\n",
      "  \n",
      "C:\\Users\\Nikhil\\Miniconda3\\envs\\plant\\lib\\site-packages\\ipykernel_launcher.py:2: DeprecationWarning: `imresize` is deprecated!\n",
      "`imresize` is deprecated in SciPy 1.0.0, and will be removed in 1.2.0.\n",
      "Use ``skimage.transform.resize`` instead.\n",
      "  \n"
     ]
    },
    {
     "name": "stdout",
     "output_type": "stream",
     "text": [
      "image :apple_leaf_rust      predicted : Cherry_(including_sour)___Powdery_mildew\n",
      "image :apple_leaf_rust_2      predicted : Apple___Cedar_apple_rust\n",
      "image :grape_black_rot      predicted : Grape___Black_rot\n",
      "image :grape_black_rot2      predicted : Strawberry___Leaf_scorch\n",
      "image :peach_bs      predicted : Peach___Bacterial_spot\n",
      "image :peach_bs1      predicted : Peach___Bacterial_spot\n",
      "image :potato_late_blight      predicted : Tomato___Late_blight\n",
      "image :tomato_septoria_leaf_spot      predicted : Tomato___Early_blight\n",
      "image :tomato_septoria_leaf_spot_2      predicted : Tomato___Early_blight\n"
     ]
    }
   ],
   "source": [
    "def predict_images(im_name):\n",
    "    test_img=imresize(imread(im_name, mode='RGB'), (224, 224)).astype(np.float32)\n",
    "    test_img = test_img.transpose((2, 0, 1))\n",
    "    test_img = np.expand_dims(test_img, axis=0)\n",
    "    class_label=my_googlenet.predict(test_img)\n",
    "    return class_label\n",
    "\n",
    "x=glob.glob(\"test_images/*\")\n",
    "for i in x:\n",
    "    predicted_label=(np.argmax(predict_images(i)))\n",
    "    print('image :'+ i.split('\\\\')[-1].split('.')[0]+'      '+'predicted : '+dict_plant[str(predicted_label)])"
   ]
  },
  {
   "cell_type": "code",
   "execution_count": 15,
   "metadata": {},
   "outputs": [],
   "source": [
    "my_googlenet.save('my_googlenet_v2.h5')"
   ]
  },
  {
   "cell_type": "code",
   "execution_count": null,
   "metadata": {},
   "outputs": [],
   "source": []
  }
 ],
 "metadata": {
  "kernelspec": {
   "display_name": "Python 3",
   "language": "python",
   "name": "python3"
  },
  "language_info": {
   "codemirror_mode": {
    "name": "ipython",
    "version": 3
   },
   "file_extension": ".py",
   "mimetype": "text/x-python",
   "name": "python",
   "nbconvert_exporter": "python",
   "pygments_lexer": "ipython3",
   "version": "3.6.5"
  }
 },
 "nbformat": 4,
 "nbformat_minor": 2
}
