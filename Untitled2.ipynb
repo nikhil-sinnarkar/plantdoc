{
 "cells": [
  {
   "cell_type": "code",
   "execution_count": 1,
   "metadata": {},
   "outputs": [
    {
     "name": "stderr",
     "output_type": "stream",
     "text": [
      "Using TensorFlow backend.\n"
     ]
    }
   ],
   "source": [
    "from keras.models import Model, load_model"
   ]
  },
  {
   "cell_type": "code",
   "execution_count": 2,
   "metadata": {},
   "outputs": [],
   "source": [
    "from keras.preprocessing import image\n",
    "\n",
    "from keras.applications.resnet50 import preprocess_input, decode_predictions\n",
    "from scipy.misc import imread, imresize\n",
    "import numpy as np\n",
    "import csv\n",
    "import os"
   ]
  },
  {
   "cell_type": "code",
   "execution_count": 55,
   "metadata": {},
   "outputs": [],
   "source": [
    "class Predict:\n",
    "    def __init__(self, model_path, label_path):\n",
    "        self.my_model = None\n",
    "\n",
    "        # load the model\n",
    "        self.my_model = load_model(model_path)\n",
    "        \n",
    "        # load labels\n",
    "        self.label_names = []\n",
    "        with open(label_path) as csvfile:\n",
    "            reader = csv.reader(csvfile)\n",
    "            for line in reader:\n",
    "                self.label_names.append(line[0])\n",
    "\n",
    "    def make_prediction(self, np_img):\n",
    "        x = np.expand_dims(np_img, axis=0)\n",
    "        preds = self.my_model.predict(x)\n",
    "        idx = np.argsort(preds)[0][-3:][::-1]\n",
    "        percent = preds[0][idx]*100\n",
    "        out = [self.label_names[i] for i in idx]        \n",
    "        return list(zip(out,percent))"
   ]
  },
  {
   "cell_type": "code",
   "execution_count": 56,
   "metadata": {},
   "outputs": [],
   "source": [
    "\n",
    "P = Predict('my_resnet_v3_full_train_ep5.h5', './label_names.csv')\n"
   ]
  },
  {
   "cell_type": "code",
   "execution_count": 57,
   "metadata": {},
   "outputs": [
    {
     "name": "stderr",
     "output_type": "stream",
     "text": [
      "C:\\Users\\Nikhil\\Miniconda3\\envs\\term3-gpu\\lib\\site-packages\\ipykernel_launcher.py:2: DeprecationWarning: `imread` is deprecated!\n",
      "`imread` is deprecated in SciPy 1.0.0, and will be removed in 1.2.0.\n",
      "Use ``imageio.imread`` instead.\n",
      "  \n",
      "C:\\Users\\Nikhil\\Miniconda3\\envs\\term3-gpu\\lib\\site-packages\\ipykernel_launcher.py:2: DeprecationWarning: `imresize` is deprecated!\n",
      "`imresize` is deprecated in SciPy 1.0.0, and will be removed in 1.2.0.\n",
      "Use ``skimage.transform.resize`` instead.\n",
      "  \n"
     ]
    },
    {
     "name": "stdout",
     "output_type": "stream",
     "text": [
      "[('Corn_(maize)___Common_rust_', 87.24025), ('Corn_(maize)___Northern_Leaf_Blight', 12.478932), ('Corn_(maize)___Cercospora_leaf_spot Gray_leaf_spot', 0.13151167)]\n"
     ]
    }
   ],
   "source": [
    "img_path = 'new_test_images\\\\corn_commonrust.jpg'\n",
    "x = imresize(imread(img_path, mode='RGB'), (224, 224)).astype(np.float32)\n",
    "x = image.img_to_array(x)\n",
    "res = P.make_prediction(x)\n",
    "print(res)"
   ]
  },
  {
   "cell_type": "code",
   "execution_count": null,
   "metadata": {},
   "outputs": [],
   "source": []
  }
 ],
 "metadata": {
  "kernelspec": {
   "display_name": "Python 3",
   "language": "python",
   "name": "python3"
  },
  "language_info": {
   "codemirror_mode": {
    "name": "ipython",
    "version": 3
   },
   "file_extension": ".py",
   "mimetype": "text/x-python",
   "name": "python",
   "nbconvert_exporter": "python",
   "pygments_lexer": "ipython3",
   "version": "3.6.5"
  }
 },
 "nbformat": 4,
 "nbformat_minor": 2
}
