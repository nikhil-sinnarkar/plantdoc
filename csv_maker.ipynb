{
 "cells": [
  {
   "cell_type": "code",
   "execution_count": 1,
   "metadata": {},
   "outputs": [],
   "source": [
    "import glob"
   ]
  },
  {
   "cell_type": "code",
   "execution_count": 2,
   "metadata": {},
   "outputs": [],
   "source": [
    "folder_location=\"data\"\n",
    "x=glob.glob(folder_location+\"/*\")\n",
    "#glob.glob(\"PlantVillage-Dataset/raw/color/*\")"
   ]
  },
  {
   "cell_type": "code",
   "execution_count": 3,
   "metadata": {},
   "outputs": [],
   "source": [
    "final_record=[]\n",
    "one_hot_id = {\"Apple___Apple_scab\": 0, \"Apple___Black_rot\":1, \"Apple___Cedar_apple_rust\":2,\n",
    "              \"Apple___healthy\":3, \"Blueberry___healthy\":4, \"Cherry_(including_sour)___healthy\":5,\n",
    "              \"Cherry_(including_sour)___Powdery_mildew\":6, \"Corn_(maize)___Cercospora_leaf_spot Gray_leaf_spot\":7,\n",
    "              \"Corn_(maize)___Common_rust_\":8, \"Corn_(maize)___healthy\":9, \"Corn_(maize)___Northern_Leaf_Blight\":10,\n",
    "              \"Grape___Black_rot\":11, \"Grape___Esca_(Black_Measles)\":12, \"Grape___healthy\":13,\n",
    "              \"Grape___Leaf_blight_(Isariopsis_Leaf_Spot)\":14, \"Orange___Haunglongbing_(Citrus_greening)\":15,\n",
    "              \"Peach___Bacterial_spot\":16, \"Peach___healthy\":17, \"Pepper,_bell___Bacterial_spot\":18,\n",
    "              \"Pepper,_bell___healthy\":19, \"Potato___Early_blight\":20, \"Potato___healthy\":21,\n",
    "              \"Potato___Late_blight\":22, \"Raspberry___healthy\":23, \"Soybean___healthy\":24,\n",
    "              \"Squash___Powdery_mildew\":25, \"Strawberry___healthy\":26, \"Strawberry___Leaf_scorch\":27,\n",
    "              \"Tomato___Bacterial_spot\":28, \"Tomato___Early_blight\":29, \"Tomato___healthy\":30,\n",
    "              \"Tomato___Late_blight\":31, \"Tomato___Leaf_Mold\":32, \"Tomato___Septoria_leaf_spot\":33,\n",
    "              \"Tomato___Spider_mites Two-spotted_spider_mite\":34, \"Tomato___Target_Spot\":35,\n",
    "              \"Tomato___Tomato_mosaic_virus\":36, \"Tomato___Tomato_Yellow_Leaf_Curl_Virus\":37}\n",
    "label_names = {'c_0':\"Apple___Apple_scab\", \"c_1\":\"Apple___Black_rot\",\n",
    "\"c_2\":\"Apple___Cedar_apple_rust\",\n",
    "\"c_3\":\"Apple___healthy\",\n",
    "\"c_4\":\"Blueberry___healthy\",\n",
    "\"c_5\":\"Cherry_(including_sour)___Powdery_mildew\",\n",
    "'c_6':\"Cherry_(including_sour)___healthy\",\n",
    "\"c_7\":\"Corn_(maize)___Cercospora_leaf_spot Gray_leaf_spot\",\n",
    "\"c_8\":\"Corn_(maize)___Common_rust_\",\n",
    "\"c_9\":\"Corn_(maize)___Northern_Leaf_Blight\",\n",
    "\"c_10\":\"Corn_(maize)___healthy\",\n",
    "\"c_11\":\"Grape___Black_rot\",\n",
    "\"c_12\":\"Grape___Esca_(Black_Measles)\",\n",
    "\"c_13\":\"Grape___Leaf_blight_(Isariopsis_Leaf_Spot)\",\n",
    "\"c_14\":\"Grape___healthy\",\n",
    "\"c_15\":\"Orange___Haunglongbing_(Citrus_greening)\",\n",
    "\"c_16\":\"Peach___Bacterial_spot\",\n",
    "\"c_17\":\"Peach___healthy\",\n",
    "\"c_18\":\"Pepper,_bell___Bacterial_spot\",\n",
    "\"c_19\":\"Pepper,_bell___healthy\",\n",
    "\"c_20\":'Potato___Early_blight',\n",
    "\"c_21\":\"Potato___Late_blight\",\n",
    "\"c_22\":\"Potato___healthy\",\n",
    "\"c_23\":\"Raspberry___healthy\",\n",
    "\"c_24\":\"Soybean___healthy\",\n",
    "\"c_25\":\"Squash___Powdery_mildew\",\n",
    "\"c_26\":\"Strawberry___Leaf_scorch\",\n",
    "\"c_27\":\"Strawberry___healthy\",\n",
    "\"c_28\":\"Tomato___Bacterial_spot\",\n",
    "\"c_29\":\"Tomato___Early_blight\",\n",
    "\"c_30\":\"Tomato___Late_blight\",\n",
    "\"c_31\":\"Tomato___Leaf_Mold\",\n",
    "\"c_32\":\"Tomato___Septoria_leaf_spot\",\n",
    "\"c_33\":\"Tomato___Spider_mites Two-spotted_spider_mite\",\n",
    "\"c_34\":\"Tomato___Target_Spot\",\n",
    "\"c_35\":\"Tomato___Tomato_Yellow_Leaf_Curl_Virus\",\n",
    "\"c_36\":\"Tomato___Tomato_mosaic_virus\",\n",
    "\"c_37\":\"Tomato___healthy\"}\n",
    "# print(label_names['c_0'])\n",
    "for i in x:\n",
    "    z=glob.glob(i+\"/*\")\n",
    "    for j in z:\n",
    "        im_name=(j.split(\"\\\\\")[-2]+str('/')+j.split(\"\\\\\")[-1])\n",
    "        label=j.split(\"\\\\\")[-2]\n",
    "#         print(label)\n",
    "        final_record.append([im_name,label_names[label],one_hot_id[label_names[label]]])\n",
    "        "
   ]
  },
  {
   "cell_type": "code",
   "execution_count": 4,
   "metadata": {},
   "outputs": [
    {
     "name": "stdout",
     "output_type": "stream",
     "text": [
      "9820\n",
      "['c_9/fdca88b7-bd2e-472a-b48f-7a5347d72f04___RS_NLB 3511.JPG', 'Corn_(maize)___Northern_Leaf_Blight', 10]\n"
     ]
    }
   ],
   "source": [
    "print(len(final_record))\n",
    "print(final_record[-1])"
   ]
  },
  {
   "cell_type": "code",
   "execution_count": 5,
   "metadata": {},
   "outputs": [
    {
     "name": "stdout",
     "output_type": "stream",
     "text": [
      "9820\n"
     ]
    }
   ],
   "source": [
    "print(len(final_record))"
   ]
  },
  {
   "cell_type": "code",
   "execution_count": 6,
   "metadata": {},
   "outputs": [],
   "source": [
    "import csv\n",
    "with open('plant_label.csv', 'w',newline='') as writeFile:\n",
    "    writer = csv.writer(writeFile)\n",
    "    for i in final_record:\n",
    "        \n",
    "        writer.writerow(i)\n",
    "\n",
    "writeFile.close()"
   ]
  },
  {
   "cell_type": "code",
   "execution_count": null,
   "metadata": {},
   "outputs": [],
   "source": []
  }
 ],
 "metadata": {
  "kernelspec": {
   "display_name": "Python 3",
   "language": "python",
   "name": "python3"
  },
  "language_info": {
   "codemirror_mode": {
    "name": "ipython",
    "version": 3
   },
   "file_extension": ".py",
   "mimetype": "text/x-python",
   "name": "python",
   "nbconvert_exporter": "python",
   "pygments_lexer": "ipython3",
   "version": "3.6.5"
  },
  "widgets": {
   "state": {},
   "version": "1.1.2"
  }
 },
 "nbformat": 4,
 "nbformat_minor": 2
}
